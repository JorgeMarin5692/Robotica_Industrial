{
  "cells": [
    {
      "cell_type": "markdown",
      "source": [
        "Autores\n",
        "\n",
        "* Jorge Andres Marin Alvarez\n",
        "* Mateo Mendoza Vera\n",
        "* Camilo Avilan Payares"
        "* Guillermo Marquez"
      ],
      "metadata": {
        "id": "c12VXjdW1mvn"
      }
    },
    {
      "cell_type": "code",
      "execution_count": null,
      "metadata": {
        "colab": {
          "base_uri": "https://localhost:8080/"
        },
        "id": "yDcR8Fc2e1ML",
        "outputId": "106a6a10-a6b5-4472-8ffa-b56945cd6958"
      },
      "outputs": [
        {
          "output_type": "stream",
          "name": "stdout",
          "text": [
            "Collecting roboticstoolbox-python\n",
            "  Downloading roboticstoolbox_python-1.1.1.tar.gz (1.5 MB)\n",
            "\u001b[?25l     \u001b[90m━━━━━━━━━━━━━━━━━━━━━━━━━━━━━━━━━━━━━━━━\u001b[0m \u001b[32m0.0/1.5 MB\u001b[0m \u001b[31m?\u001b[0m eta \u001b[36m-:--:--\u001b[0m\r\u001b[2K     \u001b[91m━━━━━━━━━━━━\u001b[0m\u001b[91m╸\u001b[0m\u001b[90m━━━━━━━━━━━━━━━━━━━━━━━━━━━\u001b[0m \u001b[32m0.5/1.5 MB\u001b[0m \u001b[31m13.9 MB/s\u001b[0m eta \u001b[36m0:00:01\u001b[0m\r\u001b[2K     \u001b[91m━━━━━━━━━━━━━━━━━━━━━━━━━━━━━━━━━━━━━━━\u001b[0m\u001b[91m╸\u001b[0m \u001b[32m1.5/1.5 MB\u001b[0m \u001b[31m26.5 MB/s\u001b[0m eta \u001b[36m0:00:01\u001b[0m\r\u001b[2K     \u001b[90m━━━━━━━━━━━━━━━━━━━━━━━━━━━━━━━━━━━━━━━━\u001b[0m \u001b[32m1.5/1.5 MB\u001b[0m \u001b[31m20.0 MB/s\u001b[0m eta \u001b[36m0:00:00\u001b[0m\n",
            "\u001b[?25h  Installing build dependencies ... \u001b[?25l\u001b[?25hdone\n",
            "  Getting requirements to build wheel ... \u001b[?25l\u001b[?25hdone\n",
            "  Installing backend dependencies ... \u001b[?25l\u001b[?25hdone\n",
            "  Preparing metadata (pyproject.toml) ... \u001b[?25l\u001b[?25hdone\n",
            "Requirement already satisfied: numpy>=1.17.4 in /usr/local/lib/python3.10/dist-packages (from roboticstoolbox-python) (1.25.2)\n",
            "Collecting spatialmath-python>=1.1.5 (from roboticstoolbox-python)\n",
            "  Downloading spatialmath_python-1.1.10-py3-none-any.whl (185 kB)\n",
            "\u001b[2K     \u001b[90m━━━━━━━━━━━━━━━━━━━━━━━━━━━━━━━━━━━━━━━━\u001b[0m \u001b[32m185.8/185.8 kB\u001b[0m \u001b[31m16.9 MB/s\u001b[0m eta \u001b[36m0:00:00\u001b[0m\n",
            "\u001b[?25hCollecting spatialgeometry>=1.0.0 (from roboticstoolbox-python)\n",
            "  Downloading spatialgeometry-1.1.0-cp310-cp310-manylinux_2_5_x86_64.manylinux1_x86_64.manylinux_2_17_x86_64.manylinux2014_x86_64.whl (1.5 MB)\n",
            "\u001b[2K     \u001b[90m━━━━━━━━━━━━━━━━━━━━━━━━━━━━━━━━━━━━━━━━\u001b[0m \u001b[32m1.5/1.5 MB\u001b[0m \u001b[31m39.8 MB/s\u001b[0m eta \u001b[36m0:00:00\u001b[0m\n",
            "\u001b[?25hCollecting pgraph-python (from roboticstoolbox-python)\n",
            "  Downloading pgraph_python-0.6.2-py3-none-any.whl (20 kB)\n",
            "Requirement already satisfied: scipy in /usr/local/lib/python3.10/dist-packages (from roboticstoolbox-python) (1.11.4)\n",
            "Requirement already satisfied: matplotlib in /usr/local/lib/python3.10/dist-packages (from roboticstoolbox-python) (3.7.1)\n",
            "Collecting ansitable (from roboticstoolbox-python)\n",
            "  Downloading ansitable-0.10.0-py3-none-any.whl (14 kB)\n",
            "Collecting swift-sim>=1.0.0 (from roboticstoolbox-python)\n",
            "  Downloading swift_sim-1.1.0-cp310-cp310-manylinux_2_5_x86_64.manylinux1_x86_64.manylinux_2_17_x86_64.manylinux2014_x86_64.whl (2.1 MB)\n",
            "\u001b[2K     \u001b[90m━━━━━━━━━━━━━━━━━━━━━━━━━━━━━━━━━━━━━━━━\u001b[0m \u001b[32m2.1/2.1 MB\u001b[0m \u001b[31m53.3 MB/s\u001b[0m eta \u001b[36m0:00:00\u001b[0m\n",
            "\u001b[?25hCollecting rtb-data (from roboticstoolbox-python)\n",
            "  Downloading rtb-data-1.0.1.tar.gz (114.7 MB)\n",
            "\u001b[2K     \u001b[90m━━━━━━━━━━━━━━━━━━━━━━━━━━━━━━━━━━━━━━━━\u001b[0m \u001b[32m114.7/114.7 MB\u001b[0m \u001b[31m5.9 MB/s\u001b[0m eta \u001b[36m0:00:00\u001b[0m\n",
            "\u001b[?25h  Preparing metadata (setup.py) ... \u001b[?25l\u001b[?25hdone\n",
            "Collecting progress (from roboticstoolbox-python)\n",
            "  Downloading progress-1.6.tar.gz (7.8 kB)\n",
            "  Preparing metadata (setup.py) ... \u001b[?25l\u001b[?25hdone\n",
            "Requirement already satisfied: typing-extensions in /usr/local/lib/python3.10/dist-packages (from roboticstoolbox-python) (4.12.1)\n",
            "Collecting pre-commit (from spatialmath-python>=1.1.5->roboticstoolbox-python)\n",
            "  Downloading pre_commit-3.7.1-py2.py3-none-any.whl (204 kB)\n",
            "\u001b[2K     \u001b[90m━━━━━━━━━━━━━━━━━━━━━━━━━━━━━━━━━━━━━━━━\u001b[0m \u001b[32m204.3/204.3 kB\u001b[0m \u001b[31m23.2 MB/s\u001b[0m eta \u001b[36m0:00:00\u001b[0m\n",
            "\u001b[?25hCollecting websockets (from swift-sim>=1.0.0->roboticstoolbox-python)\n",
            "  Downloading websockets-12.0-cp310-cp310-manylinux_2_5_x86_64.manylinux1_x86_64.manylinux_2_17_x86_64.manylinux2014_x86_64.whl (130 kB)\n",
            "\u001b[2K     \u001b[90m━━━━━━━━━━━━━━━━━━━━━━━━━━━━━━━━━━━━━━━━\u001b[0m \u001b[32m130.2/130.2 kB\u001b[0m \u001b[31m14.5 MB/s\u001b[0m eta \u001b[36m0:00:00\u001b[0m\n",
            "\u001b[?25hCollecting colored (from ansitable->roboticstoolbox-python)\n",
            "  Downloading colored-2.2.4-py3-none-any.whl (16 kB)\n",
            "Requirement already satisfied: contourpy>=1.0.1 in /usr/local/lib/python3.10/dist-packages (from matplotlib->roboticstoolbox-python) (1.2.1)\n",
            "Requirement already satisfied: cycler>=0.10 in /usr/local/lib/python3.10/dist-packages (from matplotlib->roboticstoolbox-python) (0.12.1)\n",
            "Requirement already satisfied: fonttools>=4.22.0 in /usr/local/lib/python3.10/dist-packages (from matplotlib->roboticstoolbox-python) (4.53.0)\n",
            "Requirement already satisfied: kiwisolver>=1.0.1 in /usr/local/lib/python3.10/dist-packages (from matplotlib->roboticstoolbox-python) (1.4.5)\n",
            "Requirement already satisfied: packaging>=20.0 in /usr/local/lib/python3.10/dist-packages (from matplotlib->roboticstoolbox-python) (24.0)\n",
            "Requirement already satisfied: pillow>=6.2.0 in /usr/local/lib/python3.10/dist-packages (from matplotlib->roboticstoolbox-python) (9.4.0)\n",
            "Requirement already satisfied: pyparsing>=2.3.1 in /usr/local/lib/python3.10/dist-packages (from matplotlib->roboticstoolbox-python) (3.1.2)\n",
            "Requirement already satisfied: python-dateutil>=2.7 in /usr/local/lib/python3.10/dist-packages (from matplotlib->roboticstoolbox-python) (2.8.2)\n",
            "Requirement already satisfied: six>=1.5 in /usr/local/lib/python3.10/dist-packages (from python-dateutil>=2.7->matplotlib->roboticstoolbox-python) (1.16.0)\n",
            "Collecting cfgv>=2.0.0 (from pre-commit->spatialmath-python>=1.1.5->roboticstoolbox-python)\n",
            "  Downloading cfgv-3.4.0-py2.py3-none-any.whl (7.2 kB)\n",
            "Collecting identify>=1.0.0 (from pre-commit->spatialmath-python>=1.1.5->roboticstoolbox-python)\n",
            "  Downloading identify-2.5.36-py2.py3-none-any.whl (98 kB)\n",
            "\u001b[2K     \u001b[90m━━━━━━━━━━━━━━━━━━━━━━━━━━━━━━━━━━━━━━━━\u001b[0m \u001b[32m99.0/99.0 kB\u001b[0m \u001b[31m12.0 MB/s\u001b[0m eta \u001b[36m0:00:00\u001b[0m\n",
            "\u001b[?25hCollecting nodeenv>=0.11.1 (from pre-commit->spatialmath-python>=1.1.5->roboticstoolbox-python)\n",
            "  Downloading nodeenv-1.9.1-py2.py3-none-any.whl (22 kB)\n",
            "Requirement already satisfied: pyyaml>=5.1 in /usr/local/lib/python3.10/dist-packages (from pre-commit->spatialmath-python>=1.1.5->roboticstoolbox-python) (6.0.1)\n",
            "Collecting virtualenv>=20.10.0 (from pre-commit->spatialmath-python>=1.1.5->roboticstoolbox-python)\n",
            "  Downloading virtualenv-20.26.2-py3-none-any.whl (3.9 MB)\n",
            "\u001b[2K     \u001b[90m━━━━━━━━━━━━━━━━━━━━━━━━━━━━━━━━━━━━━━━━\u001b[0m \u001b[32m3.9/3.9 MB\u001b[0m \u001b[31m78.1 MB/s\u001b[0m eta \u001b[36m0:00:00\u001b[0m\n",
            "\u001b[?25hCollecting distlib<1,>=0.3.7 (from virtualenv>=20.10.0->pre-commit->spatialmath-python>=1.1.5->roboticstoolbox-python)\n",
            "  Downloading distlib-0.3.8-py2.py3-none-any.whl (468 kB)\n",
            "\u001b[2K     \u001b[90m━━━━━━━━━━━━━━━━━━━━━━━━━━━━━━━━━━━━━━━━\u001b[0m \u001b[32m468.9/468.9 kB\u001b[0m \u001b[31m31.0 MB/s\u001b[0m eta \u001b[36m0:00:00\u001b[0m\n",
            "\u001b[?25hRequirement already satisfied: filelock<4,>=3.12.2 in /usr/local/lib/python3.10/dist-packages (from virtualenv>=20.10.0->pre-commit->spatialmath-python>=1.1.5->roboticstoolbox-python) (3.14.0)\n",
            "Requirement already satisfied: platformdirs<5,>=3.9.1 in /usr/local/lib/python3.10/dist-packages (from virtualenv>=20.10.0->pre-commit->spatialmath-python>=1.1.5->roboticstoolbox-python) (4.2.2)\n",
            "Building wheels for collected packages: roboticstoolbox-python, progress, rtb-data\n",
            "  Building wheel for roboticstoolbox-python (pyproject.toml) ... \u001b[?25l\u001b[?25hdone\n",
            "  Created wheel for roboticstoolbox-python: filename=roboticstoolbox_python-1.1.1-cp310-cp310-linux_x86_64.whl size=12143603 sha256=55b0cefd3d9525d856cf656d3d92c0ecadaa68a4ffdf209fe5d0c8a4c42538af\n",
            "  Stored in directory: /root/.cache/pip/wheels/ff/09/f8/67220f27cfc351f64680a9125c3aec545d40d9a6add61f9d33\n",
            "  Building wheel for progress (setup.py) ... \u001b[?25l\u001b[?25hdone\n",
            "  Created wheel for progress: filename=progress-1.6-py3-none-any.whl size=9614 sha256=f5ca3a27f207c72096bb304abb0670f51ea781eee9662b866ea421eb15a1c76c\n",
            "  Stored in directory: /root/.cache/pip/wheels/a2/68/5f/c339b20a41659d856c93ccdce6a33095493eb82c3964aac5a1\n",
            "  Building wheel for rtb-data (setup.py) ... \u001b[?25l\u001b[?25hdone\n",
            "  Created wheel for rtb-data: filename=rtb_data-1.0.1-py3-none-any.whl size=115135910 sha256=24d030847040437c6ebc945ffb43785975c477bc5c543b2664ba5f180cea055b\n",
            "  Stored in directory: /root/.cache/pip/wheels/9b/63/83/63178a96f65a0c2abfc035dff171d039e59acd3fbe7815cee2\n",
            "Successfully built roboticstoolbox-python progress rtb-data\n",
            "Installing collected packages: rtb-data, progress, distlib, websockets, virtualenv, nodeenv, identify, colored, cfgv, pre-commit, ansitable, spatialmath-python, spatialgeometry, pgraph-python, swift-sim, roboticstoolbox-python\n",
            "Successfully installed ansitable-0.10.0 cfgv-3.4.0 colored-2.2.4 distlib-0.3.8 identify-2.5.36 nodeenv-1.9.1 pgraph-python-0.6.2 pre-commit-3.7.1 progress-1.6 roboticstoolbox-python-1.1.1 rtb-data-1.0.1 spatialgeometry-1.1.0 spatialmath-python-1.1.10 swift-sim-1.1.0 virtualenv-20.26.2 websockets-12.0\n"
          ]
        }
      ],
      "source": [
        "!pip install roboticstoolbox-python"
      ]
    },
    {
      "cell_type": "markdown",
      "source": [
        "\n",
        "\n",
        "\n",
        "\n"
      ],
      "metadata": {
        "id": "SQ2uZeqmK5ZQ"
      }
    },
    {
      "cell_type": "markdown",
      "source": [
        "Primero, definimos un robot de 5 grados de libertad (DoF) utilizando la herramienta Robotic Toolbox (RTB) en Python. Este robot está definido con parámetros de Denavit-Hartenberg (DH) personalizados. Los parámetros DH son valores que describen la geometría y la cinemática del robot. En este caso, se definen utilizando la clase RevoluteDH de RTB. Cada articulación del robot se define con su propio conjunto de parámetros DH, que incluyen la longitud del enlace (d), la longitud del offset (a), el ángulo de offset (alpha), y el ángulo de giro (offset) si es necesario.\n",
        "\n",
        "Luego, se calcula la cinemática directa del robot (la posición y orientación del extremo del robot) para una configuración de articulaciones inicial q, utilizando el método fkine. Esto se realiza mediante la matriz de transformación homogénea T.\n",
        "\n",
        "Después, definimos una posición deseada para el extremo del robot (T_des). Queremos encontrar los ángulos de articulación necesarios para que el extremo del robot alcance esta posición deseada. Para ello, utilizamos la cinemática inversa, que se calcula utilizando el método ikine_LM (método de Levenberg-Marquardt) proporcionado por RTB. Esto devuelve una solución para los ángulos de articulación que satisfacen la posición y orientación deseadas del extremo del robot.\n",
        "\n",
        "Finalmente, imprimimos los ángulos de articulación obtenidos (sol.q) que logran la posición deseada del extremo del robot."
      ],
      "metadata": {
        "id": "-MQLC0uoOo9b"
      }
    },
    {
      "cell_type": "code",
      "source": [
        "import roboticstoolbox as rtb\n",
        "from spatialmath import SE3\n",
        "import numpy as np\n",
        "\n",
        "# Definimos el robot utilizando los nuevos parámetros DH\n",
        "customized_robot_5dof = rtb.DHRobot(\n",
        "    [\n",
        "        rtb.RevoluteDH(d=40.38, a=0, alpha=-np.pi/2),\n",
        "        rtb.RevoluteDH(offset= np.pi/2, d=0, a=120, alpha=0),\n",
        "        rtb.RevoluteDH(offset=0, d=115, a=0, alpha= np.pi/2),\n",
        "        rtb.RevoluteDH(offset=-np.pi/2, d=31.76, a=0, alpha=np.pi/2),\n",
        "        rtb.RevoluteDH(offset=0, d=-0, a=0, alpha=0)\n",
        "    ], name=\"5DoF Robot\")\n",
        "customized_robot_5dof\n",
        "\n",
        "print(customized_robot_5dof)\n",
        "# Configuración de las articulaciones (en radianes)\n",
        "q = [0,0,0,0,0]\n",
        "\n",
        "# Cinemática directa\n",
        "T = customized_robot_5dof.fkine(q)\n",
        "print(\"Cinemática Directa:\")\n",
        "print(T)\n",
        "\n",
        "# Definimos una posición objetivo para el extremo del robot\n",
        "T_des = SE3(1500, 1000, -1000)  # posición deseada\n",
        "\n",
        "# Cinemática inversa\n",
        "sol = customized_robot_5dof.ikine_LM(T_des)\n",
        "print(\"\\nCinemática Inversa:\")\n",
        "print(sol)\n",
        "\n",
        "# Mostrar los ángulos articulares solucionados\n",
        "print(\"\\nÁngulos articulares obtenidos para alcanzar la posición deseada:\")\n",
        "print(sol.q)\n"
      ],
      "metadata": {
        "colab": {
          "base_uri": "https://localhost:8080/"
        },
        "id": "YZ4otdEo2yS8",
        "outputId": "2b3f46e1-0ce3-4ebf-a680-884f4f225cd2"
      },
      "execution_count": null,
      "outputs": [
        {
          "output_type": "stream",
          "name": "stdout",
          "text": [
            "DHRobot: 5DoF Robot, 5 joints (RRRRR), dynamics, standard DH parameters\n",
            "┌───────────┬───────┬─────┬────────┐\n",
            "│    θⱼ     │  dⱼ   │ aⱼ  │   ⍺ⱼ   │\n",
            "├───────────┼───────┼─────┼────────┤\n",
            "│  q1       │ 40.38 │   0 │ -90.0° │\n",
            "│  q2 + 90° │     0 │ 120 │   0.0° │\n",
            "│  q3       │   115 │   0 │  90.0° │\n",
            "│  q4 - 90° │ 31.76 │   0 │  90.0° │\n",
            "│  q5       │     0 │   0 │   0.0° │\n",
            "└───────────┴───────┴─────┴────────┘\n",
            "\n",
            "┌──┬──┐\n",
            "└──┴──┘\n",
            "\n",
            "Cinemática Directa:\n",
            "   0         1         0         31.76     \n",
            "  -1         0         0         115       \n",
            "   0         0         1        -79.62     \n",
            "   0         0         0         1         \n",
            "\n",
            "\n",
            "Cinemática Inversa:\n",
            "IKSolution: q=[4.472, -4.851, 0.0063, 2.95, -1.506], success=False, reason=iteration and search limit reached, iterations=3000, searches=100, residual=1.84e+06\n",
            "\n",
            "Ángulos articulares obtenidos para alcanzar la posición deseada:\n",
            "[ 4.4719849  -4.85098398  0.00629978  2.95005691 -1.50609294]\n"
          ]
        }
      ]
    },
    {
      "cell_type": "markdown",
      "source": [
        "La función forward_kinematics calcula la cinemática directa de un manipulador de cinco grados de libertad en el espacio tridimensional. Toma como entrada los valores de los ángulos de articulación (theta1, theta2, theta3, theta4, theta5) y las longitudes de los eslabones (l1, l2, l3, l4, l5).\n",
        "\n",
        "La coordenada x se calcula sumando las proyecciones de los eslabones a lo largo del eje x, donde cada proyección está ponderada por el coseno del ángulo correspondiente. La coordenada y se calcula de manera similar a la coordenada x, pero utilizando las proyecciones a lo largo del eje y y los senos de los ángulos. La coordenada z se calcula sumando las longitudes de los eslabones a lo largo del eje z, teniendo en cuenta las proyecciones verticales y los senos de los ángulos.\n",
        "\n",
        "Finalmente, la función devuelve las coordenadas x, y, y z que representan la posición del extremo del manipulador en el espacio tridimensional.\n",
        "\n",
        "\n",
        "\n",
        "$$\n",
        "x = l_1 \\cos(\\theta_1) + l_2 \\cos(\\theta_1 + \\theta_2) + l_3 \\cos(\\theta_1 + \\theta_2 + \\theta_3) + l_4 \\cos(\\theta_1 + \\theta_2 + \\theta_3 + \\theta_4) + l_5 \\cos(\\theta_1 + \\theta_2 + \\theta_3 + \\theta_4 + \\theta_5)\n",
        "$$\n",
        "\n",
        "$$\n",
        "y = l_1 \\sin(\\theta_1) + l_2 \\sin(\\theta_1 + \\theta_2) + l_3 \\sin(\\theta_1 + \\theta_2 + \\theta_3) + l_4 \\sin(\\theta_1 + \\theta_2 + \\theta_3 + \\theta_4) + l_5 \\sin(\\theta_1 + \\theta_2 + \\theta_3 + \\theta_4 + \\theta_5)\n",
        "$$\n",
        "\n",
        "$$\n",
        "z = l_1 + l_2 \\sin(\\theta_2) + l_3 \\sin(\\theta_2 + \\theta_3) + l_4 \\sin(\\theta_2 + \\theta_3 + \\theta_4) + l_5 \\sin(\\theta_2 + \\theta_3 + \\theta_4 + \\theta_5)\n",
        "$$\n",
        "\n"
      ],
      "metadata": {
        "id": "fFQ3LXtxNogI"
      }
    },
    {
      "cell_type": "code",
      "source": [
        "import numpy as np\n",
        "\n",
        "def forward_kinematics(theta1, theta2, theta3, theta4, theta5, l1, l2, l3, l4, l5):\n",
        "    x = l1 * np.cos(theta1) + l2 * np.cos(theta1 + theta2) + l3 * np.cos(theta1 + theta2 + theta3) + l4 * np.cos(theta1 + theta2 + theta3 + theta4) + l5 * np.cos(theta1 + theta2 + theta3 + theta4 + theta5)\n",
        "    y = l1 * np.sin(theta1) + l2 * np.sin(theta1 + theta2) + l3 * np.sin(theta1 + theta2 + theta3) + l4 * np.sin(theta1 + theta2 + theta3 + theta4) + l5 * np.sin(theta1 + theta2 + theta3 + theta4 + theta5)\n",
        "    z = l1 + l2 * np.sin(theta2) + l3 * np.sin(theta2 + theta3) + l4 * np.sin(theta2 + theta3 + theta4) + l5 * np.sin(theta2 + theta3 + theta4 + theta5)\n",
        "    return x, y, z\n"
      ],
      "metadata": {
        "id": "RlNZMwGOEOMC"
      },
      "execution_count": null,
      "outputs": []
    },
    {
      "cell_type": "markdown",
      "source": [
        "\n",
        "La matriz que te proporcioné representa un conjunto de valores \\( j_{ij} \\), donde \\( i \\) y \\( j \\) son índices que indican la fila y la columna respectivamente.\n",
        "\n",
        "Cada elemento de la matriz está compuesto por una expresión que depende de \\( l_1, l_2, l_3, l_4, l_5 \\) (longitudes) y \\( \\theta_1, \\theta_2, \\theta_3, \\theta_4, \\theta_5 \\) (ángulos), según las siguientes fórmulas trigonométricas:\n",
        "\n",
        "- Los elementos de la primera fila (\\( j_{11}, j_{12}, j_{13}, j_{14}, j_{15} \\)) representan combinaciones de longitudes y senos de los ángulos.\n",
        "- Los elementos de la segunda fila (\\( j_{21}, j_{22}, j_{23}, j_{24}, j_{25} \\)) representan combinaciones de longitudes y cosenos de los ángulos.\n",
        "- Los elementos de la tercera fila (\\( j_{31}, j_{32}, j_{33}, j_{34}, j_{35} \\)) tienen una forma similar a los de la segunda fila, pero la primera columna es cero.\n",
        "\n",
        "Estos valores son importantes en contextos como cinemática o dinámica de manipuladores robóticos, donde representan las derivadas de las coordenadas de posición respecto a los ángulos de las articulaciones (Jacobiano).\n",
        "\n",
        "\n",
        "\\[\n",
        "\\begin{bmatrix}\n",
        "    j_{11} & j_{12} & j_{13} & j_{14} & j_{15} \\\\\n",
        "    j_{21} & j_{22} & j_{23} & j_{24} & j_{25} \\\\\n",
        "    j_{31} & j_{32} & j_{33} & j_{34} & j_{35}\n",
        "\\end{bmatrix}\n",
        "=\n",
        "\\]\n",
        "\\[\n",
        "\\begin{bmatrix}\n",
        "    -l_1 \\sin(\\theta_1) - l_2 \\sin(\\theta_1 + \\theta_2) - l_3 \\sin(\\theta_1 + \\theta_2 + \\theta_3) - l_4 \\sin(\\theta_1 + \\theta_2 + \\theta_3 + \\theta_4) - l_5 \\sin(\\theta_1 + \\theta_2 + \\theta_3 + \\theta_4 + \\theta_5) & -l_2 \\sin(\\theta_1 + \\theta_2) - l_3 \\sin(\\theta_1 + \\theta_2 + \\theta_3) - l_4 \\sin(\\theta_1 + \\theta_2 + \\theta_3 + \\theta_4) - l_5 \\sin(\\theta_1 + \\theta_2 + \\theta_3 + \\theta_4 + \\theta_5) & -l_3 \\sin(\\theta_1 + \\theta_2 + \\theta_3) - l_4 \\sin(\\theta_1 + \\theta_2 + \\theta_3 + \\theta_4) - l_5 \\sin(\\theta_1 + \\theta_2 + \\theta_3 + \\theta_4 + \\theta_5) & -l_4 \\sin(\\theta_1 + \\theta_2 + \\theta_3 + \\theta_4) - l_5 \\sin(\\theta_1 + \\theta_2 + \\theta_3 + \\theta_4 + \\theta_5) & -l_5 \\sin(\\theta_1 + \\theta_2 + \\theta_3 + \\theta_4 + \\theta_5) \\\\\n",
        "    l_1 \\cos(\\theta_1) + l_2 \\cos(\\theta_1 + \\theta_2) + l_3 \\cos(\\theta_1 + \\theta_2 + \\theta_3) + l_4 \\cos(\\theta_1 + \\theta_2 + \\theta_3 + \\theta_4) + l_5 \\cos(\\theta_1 + \\theta_2 + \\theta_3 + \\theta_4 + \\theta_5) & l_2 \\cos(\\theta_1 + \\theta_2) + l_3 \\cos(\\theta_1 + \\theta_2 + \\theta_3) + l_4 \\cos(\\theta_1 + \\theta_2 + \\theta_3 + \\theta_4) + l_5 \\cos(\\theta_1 + \\theta_2 + \\theta_3 + \\theta_4 + \\theta_5) & l_3 \\cos(\\theta_1 + \\theta_2 + \\theta_3) + l_4 \\cos(\\theta_1 + \\theta_2 + \\theta_3 + \\theta_4) + l_5 \\cos(\\theta_1 + \\theta_2 + \\theta_3 + \\theta_4 + \\theta_5) & l_4 \\cos(\\theta_1 + \\theta_2 + \\theta_3 + \\theta_4) + l_5 \\cos(\\theta_1 + \\theta_2 + \\theta_3 + \\theta_4 + \\theta_5) & l_5 \\cos(\\theta_1 + \\theta_2 + \\theta_3 + \\theta_4 + \\theta_5) \\\\\n",
        "    0 & l_2 \\cos(\\theta_2) + l_3 \\cos(\\theta_2 + \\theta_3) + l_4 \\cos(\\theta_2 + \\theta_3 + \\theta_4) + l_5 \\cos(\\theta_2 + \\theta_3 + \\theta_4 + \\theta_5) & l_3 \\cos(\\theta_2 + \\theta_3) + l_4 \\cos(\\theta_2 + \\theta_3 + \\theta_4) + l_5 \\cos(\\theta_2 + \\theta_3 + \\theta_4 + \\theta_5) & l_4 \\cos(\\theta_2 + \\theta_3 + \\theta_4) + l_5 \\cos(\\theta_2 + \\theta_3 + \\theta_4 + \\theta_5) & l_5 \\cos(\\theta_2 + \\theta_3 + \\theta_4 + \\theta_5)\n",
        "\\end{bmatrix}\n",
        "\\]\n",
        "\n",
        "\n"
      ],
      "metadata": {
        "id": "CO6j5qAKPTxf"
      }
    },
    {
      "cell_type": "code",
      "source": [
        "\n",
        "\n",
        "def jacobian(theta1, theta2, theta3, theta4, theta5, l1, l2, l3, l4, l5):\n",
        "    j11 = -l1 * np.sin(theta1) - l2 * np.sin(theta1 + theta2) - l3 * np.sin(theta1 + theta2 + theta3) - l4 * np.sin(theta1 + theta2 + theta3 + theta4) - l5 * np.sin(theta1 + theta2 + theta3 + theta4 + theta5)\n",
        "    j12 = -l2 * np.sin(theta1 + theta2) - l3 * np.sin(theta1 + theta2 + theta3) - l4 * np.sin(theta1 + theta2 + theta3 + theta4) - l5 * np.sin(theta1 + theta2 + theta3 + theta4 + theta5)\n",
        "    j13 = -l3 * np.sin(theta1 + theta2 + theta3) - l4 * np.sin(theta1 + theta2 + theta3 + theta4) - l5 * np.sin(theta1 + theta2 + theta3 + theta4 + theta5)\n",
        "    j14 = -l4 * np.sin(theta1 + theta2 + theta3 + theta4) - l5 * np.sin(theta1 + theta2 + theta3 + theta4 + theta5)\n",
        "    j15 = -l5 * np.sin(theta1 + theta2 + theta3 + theta4 + theta5)\n",
        "\n",
        "    j21 = l1 * np.cos(theta1) + l2 * np.cos(theta1 + theta2) + l3 * np.cos(theta1 + theta2 + theta3) + l4 * np.cos(theta1 + theta2 + theta3 + theta4) + l5 * np.cos(theta1 + theta2 + theta3 + theta4 + theta5)\n",
        "    j22 = l2 * np.cos(theta1 + theta2) + l3 * np.cos(theta1 + theta2 + theta3) + l4 * np.cos(theta1 + theta2 + theta3 + theta4) + l5 * np.cos(theta1 + theta2 + theta3 + theta4 + theta5)\n",
        "    j23 = l3 * np.cos(theta1 + theta2 + theta3) + l4 * np.cos(theta1 + theta2 + theta3 + theta4) + l5 * np.cos(theta1 + theta2 + theta3 + theta4 + theta5)\n",
        "    j24 = l4 * np.cos(theta1 + theta2 + theta3 + theta4) + l5 * np.cos(theta1 + theta2 + theta3 + theta4 + theta5)\n",
        "    j25 = l5 * np.cos(theta1 + theta2 + theta3 + theta4 + theta5)\n",
        "\n",
        "    j31 = 0\n",
        "    j32 = l2 * np.cos(theta2) + l3 * np.cos(theta2 + theta3) + l4 * np.cos(theta2 + theta3 + theta4) + l5 * np.cos(theta2 + theta3 + theta4 + theta5)\n",
        "    j33 = l3 * np.cos(theta2 + theta3) + l4 * np.cos(theta2 + theta3 + theta4) + l5 * np.cos(theta2 + theta3 + theta4 + theta5)\n",
        "    j34 = l4 * np.cos(theta2 + theta3 + theta4) + l5 * np.cos(theta2 + theta3 + theta4 + theta5)\n",
        "    j35 = l5 * np.cos(theta2 + theta3 + theta4 + theta5)\n",
        "\n",
        "    return np.array([[j11, j12, j13, j14, j15], [j21, j22, j23, j24, j25], [j31, j32, j33, j34, j35]])\n",
        "\n",
        "\n"
      ],
      "metadata": {
        "id": "EbcIBgf5FuK1"
      },
      "execution_count": null,
      "outputs": []
    },
    {
      "cell_type": "markdown",
      "source": [
        "\n",
        "El código proporciona una función llamada `inverse_kinematics` que se utiliza para calcular las coordenadas articulares necesarias para alcanzar una posición objetivo en un sistema robótico de múltiples grados de libertad. La función toma los siguientes parámetros:\n",
        "\n",
        "- `target`: La posición objetivo que se desea alcanzar.\n",
        "- `theta`: Un arreglo que contiene las coordenadas articulares actuales del sistema.\n",
        "- `l1, l2, l3, l4, l5`: Las longitudes de los eslabones del sistema.\n",
        "- `epsilon`: La precisión deseada para la convergencia del algoritmo. Es decir, la diferencia mínima entre la posición objetivo y la posición actual.\n",
        "- `max_iterations`: El número máximo de iteraciones que el algoritmo ejecutará antes de detenerse, independientemente de si se alcanza la precisión deseada.\n",
        "\n",
        "Dentro de la función, se utiliza un bucle `for` para iterar un máximo de `max_iterations` veces. En cada iteración, se calcula la posición actual del sistema utilizando la función `forward_kinematics` y se calcula el error entre la posición objetivo y la posición actual.\n",
        "\n",
        "Si el error es menor que `epsilon`, lo que significa que la posición actual está lo suficientemente cerca de la posición objetivo, el bucle se interrumpe y se devuelve el valor actual de `theta`.\n",
        "\n",
        "Si el error es mayor que `epsilon`, se calcula el jacobiano del sistema utilizando la función `jacobian`. El jacobiano es una matriz que relaciona las velocidades de las articulaciones con las velocidades del extremo del robot.\n",
        "\n",
        "Se utiliza la pseudo-inversa del jacobiano para calcular el cambio necesario en las coordenadas articulares (`delta_theta`) para reducir el error. Este cambio se agrega a las coordenadas articulares actuales `theta`.\n",
        "\n",
        "Una vez que el bucle ha terminado, se devuelve el valor final de `theta`, que representa las coordenadas articulares necesarias para alcanzar la posición objetivo o el estado más cercano posible a ella.\n"
      ],
      "metadata": {
        "id": "SDpjAdzNQtVW"
      }
    },
    {
      "cell_type": "code",
      "source": [
        "import numpy as np\n",
        "\n",
        "def inverse_kinematics(target, theta, l1, l2, l3, l4, l5, epsilon=1e-10, max_iterations=1000):\n",
        "    for i in range(max_iterations):\n",
        "        current = forward_kinematics(theta[0], theta[1], theta[2], theta[3], theta[4], l1, l2, l3, l4, l5)\n",
        "        error = target - current\n",
        "        if np.linalg.norm(error) < epsilon:\n",
        "            break\n",
        "        J = jacobian(theta[0], theta[1], theta[2], theta[3], theta[4], l1, l2, l3, l4, l5)\n",
        "        delta_theta = np.linalg.pinv(J) @ error  # Use pseudo-inverse to handle non-square Jacobian\n",
        "        theta += delta_theta\n",
        "    return theta"
      ],
      "metadata": {
        "id": "LhV82ZGsG2r_"
      },
      "execution_count": null,
      "outputs": []
    },
    {
      "cell_type": "code",
      "source": [
        "# Test the function\n",
        "target_position = np.array([50, 15, 30])\n",
        "initial_angles = np.array([0.1, 0.1, 0.1, 0.1, 0.1])  # Debes proporcionar 5 ángulos iniciales\n",
        "link_lengths = [40.38, 120, 115, 31.76, 0]  # Debes proporcionar 5 longitudes de enlace\n",
        "angles = inverse_kinematics(target_position, initial_angles, *link_lengths)\n",
        "print(f\"Computed angles: {angles}\")"
      ],
      "metadata": {
        "colab": {
          "base_uri": "https://localhost:8080/"
        },
        "id": "bu8Uih06F-7p",
        "outputId": "f295011d-6316-44a1-ae30-86ca8aada58c"
      },
      "execution_count": null,
      "outputs": [
        {
          "output_type": "stream",
          "name": "stdout",
          "text": [
            "Computed angles: [  0.49163577 -14.0131249   22.18387752  16.94371566   0.1       ]\n"
          ]
        }
      ]
    },
    {
      "cell_type": "code",
      "source": [
        "forward_kinematics(  0.49163577,-14.0131249,22.18387752,16.94371566 ,0.1,40.38, 120, 115, 31.76, 0 )"
      ],
      "metadata": {
        "colab": {
          "base_uri": "https://localhost:8080/"
        },
        "id": "nzKGS7plHzy9",
        "outputId": "40995a23-1021-43ef-a22f-78006c4bab3c"
      },
      "execution_count": null,
      "outputs": [
        {
          "output_type": "execute_result",
          "data": {
            "text/plain": [
              "(49.99999988688731, 14.999999733181062, 29.999999884590476)"
            ]
          },
          "metadata": {},
          "execution_count": 34
        }
      ]
    }
  ],
  "metadata": {
    "colab": {
      "provenance": []
    },
    "kernelspec": {
      "display_name": "Python 3",
      "name": "python3"
    },
    "language_info": {
      "name": "python"
    }
  },
  "nbformat": 4,
  "nbformat_minor": 0
}
